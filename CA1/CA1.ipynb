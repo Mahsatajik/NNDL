{
  "nbformat": 4,
  "nbformat_minor": 0,
  "metadata": {
    "colab": {
      "provenance": []
    },
    "kernelspec": {
      "name": "python3",
      "display_name": "Python 3"
    },
    "language_info": {
      "name": "python"
    }
  },
  "cells": [
    {
      "cell_type": "code",
      "execution_count": 1,
      "metadata": {
        "colab": {
          "base_uri": "https://localhost:8080/",
          "height": 1000
        },
        "id": "jNFzii_D1Cp4",
        "outputId": "43a62599-3e06-4e02-b233-574abca79d13"
      },
      "outputs": [
        {
          "output_type": "display_data",
          "data": {
            "text/plain": [
              "<Figure size 640x480 with 1 Axes>"
            ],
            "image/png": "[encoded data removed]"
          },
          "metadata": {}
        },
        {
          "output_type": "display_data",
          "data": {
            "text/plain": [
              "<Figure size 640x480 with 1 Axes>"
            ],
            "image/png": "[encoded data removed]"
          },
          "metadata": {}
        },
        {
          "output_type": "display_data",
          "data": {
            "text/plain": [
              "<Figure size 640x480 with 1 Axes>"
            ],
            "image/png": "[encoded data removed]"
          },
          "metadata": {}
        }
      ],
      "source": [
        "import numpy as np\n",
        "import matplotlib.pyplot as plt\n",
        "\n",
        "\n",
        "\"\"\"\"\"\"\"\"\"   initialization  \"\"\"\"\"\"\"\"\"\"\"\n",
        "A = -np.ones((63, 1))\n",
        "B = -np.ones((63, 1))\n",
        "C = -np.ones((63, 1))\n",
        "A[3] = 1\n",
        "A[10] = 1\n",
        "A[16] = 1\n",
        "A[18] = 1\n",
        "A[23] = 1\n",
        "A[25] = 1\n",
        "A[30] = 1\n",
        "A[31] = 1\n",
        "A[32] = 1\n",
        "A[36] = 1\n",
        "A[40] = 1\n",
        "A[43] = 1\n",
        "A[47] = 1\n",
        "A[49] = 1\n",
        "A[55] = 1\n",
        "A[56] = 1\n",
        "A[62] = 1\n",
        "\n",
        "B[0] = 1\n",
        "B[1] = 1\n",
        "B[2] = 1\n",
        "B[3] = 1\n",
        "B[4] = 1\n",
        "B[7] = 1\n",
        "B[12] = 1\n",
        "B[14] = 1\n",
        "B[20] = 1\n",
        "B[21] = 1\n",
        "B[26] = 1\n",
        "B[28] = 1\n",
        "B[29] = 1\n",
        "B[30] = 1\n",
        "B[31] = 1\n",
        "B[32] = 1\n",
        "B[35] = 1\n",
        "B[40] = 1\n",
        "B[42] = 1\n",
        "B[48] = 1\n",
        "B[49] = 1\n",
        "B[54] = 1\n",
        "B[56] = 1\n",
        "B[57] = 1\n",
        "B[58] = 1\n",
        "B[59] = 1\n",
        "B[60] = 1\n",
        "\n",
        "C[2] = 1\n",
        "C[3] = 1\n",
        "C[4] = 1\n",
        "C[8] = 1\n",
        "C[12] = 1\n",
        "C[14] = 1\n",
        "C[20] = 1\n",
        "C[21] = 1\n",
        "C[28] = 1\n",
        "C[35] = 1\n",
        "C[42] = 1\n",
        "C[48] = 1\n",
        "C[50] = 1\n",
        "C[54] = 1\n",
        "C[58] = 1\n",
        "C[59] = 1\n",
        "C[60] = 1\n",
        "tA = np.ones((15, 1))\n",
        "tB = np.ones((15, 1))\n",
        "tC = np.ones((15, 1))\n",
        "\n",
        "tA[0] = -1\n",
        "tA[2] = -1\n",
        "tA[4] = -1\n",
        "tA[10] = -1\n",
        "tA[13] = -1\n",
        "\n",
        "tB[2] = -1\n",
        "tB[4] = -1\n",
        "tB[8] = -1\n",
        "tB[10] = -1\n",
        "tB[14] = -1\n",
        "\n",
        "tC[4] = -1\n",
        "tC[5] = -1\n",
        "tC[7] = -1\n",
        "tC[8] = -1\n",
        "tC[10] = -1\n",
        "tC[11] = -1\n",
        "\n",
        "W = np.zeros((63, 15))\n",
        "W = np.matmul(A, tA.T) + np.matmul(B, tB.T) + np.matmul(C, tC.T)\n",
        "\n",
        "yA = np.matmul(A.T, W)\n",
        "yB = np.matmul(B.T, W)\n",
        "yC = np.matmul(C.T, W)\n",
        "fA = np.sign(yA)\n",
        "fB = np.sign(yB)\n",
        "fC = np.sign(yC)\n",
        "\n",
        "\n",
        "\"\"\"\"\"\"\"\"\"   plot  \"\"\"\"\"\"\"\"\"\"\"\n",
        "plt.imshow(fA.reshape(5, 3), cmap='Greys')\n",
        "plt.xticks([])\n",
        "plt.yticks([])\n",
        "plt.show()\n",
        "plt.imshow(fB.reshape(5, 3), cmap='Greys')\n",
        "plt.xticks([])\n",
        "plt.yticks([])\n",
        "plt.show()\n",
        "plt.imshow(fC.reshape(5, 3), cmap='Greys')\n",
        "plt.xticks([])\n",
        "plt.yticks([])\n",
        "plt.show()\n"
      ]
    },
    {
      "cell_type": "code",
      "source": [
        "import numpy as np\n",
        "import random\n",
        "\n",
        "\"\"\"\"\"\"\"\"\"   initialization  \"\"\"\"\"\"\"\"\"\"\"\n",
        "A = -np.ones((63, 1))\n",
        "B = -np.ones((63, 1))\n",
        "C = -np.ones((63, 1))\n",
        "A[3] = 1\n",
        "A[10] = 1\n",
        "A[16] = 1\n",
        "A[18] = 1\n",
        "A[23] = 1\n",
        "A[25] = 1\n",
        "A[30] = 1\n",
        "A[31] = 1\n",
        "A[32] = 1\n",
        "A[36] = 1\n",
        "A[40] = 1\n",
        "A[43] = 1\n",
        "A[47] = 1\n",
        "A[49] = 1\n",
        "A[55] = 1\n",
        "A[56] = 1\n",
        "A[62] = 1\n",
        "\n",
        "B[0] = 1\n",
        "B[1] = 1\n",
        "B[2] = 1\n",
        "B[3] = 1\n",
        "B[4] = 1\n",
        "B[7] = 1\n",
        "B[12] = 1\n",
        "B[14] = 1\n",
        "B[20] = 1\n",
        "B[21] = 1\n",
        "B[26] = 1\n",
        "B[28] = 1\n",
        "B[29] = 1\n",
        "B[30] = 1\n",
        "B[31] = 1\n",
        "B[32] = 1\n",
        "B[35] = 1\n",
        "B[40] = 1\n",
        "B[42] = 1\n",
        "B[48] = 1\n",
        "B[49] = 1\n",
        "B[54] = 1\n",
        "B[56] = 1\n",
        "B[57] = 1\n",
        "B[58] = 1\n",
        "B[59] = 1\n",
        "B[60] = 1\n",
        "\n",
        "C[2] = 1\n",
        "C[3] = 1\n",
        "C[4] = 1\n",
        "C[8] = 1\n",
        "C[12] = 1\n",
        "C[14] = 1\n",
        "C[20] = 1\n",
        "C[21] = 1\n",
        "C[28] = 1\n",
        "C[35] = 1\n",
        "C[42] = 1\n",
        "C[48] = 1\n",
        "C[50] = 1\n",
        "C[54] = 1\n",
        "C[58] = 1\n",
        "C[59] = 1\n",
        "C[60] = 1\n",
        "tA = np.ones((15, 1))\n",
        "tB = np.ones((15, 1))\n",
        "tC = np.ones((15, 1))\n",
        "\n",
        "tA[0] = -1\n",
        "tA[2] = -1\n",
        "tA[4] = -1\n",
        "tA[10] = -1\n",
        "tA[13] = -1\n",
        "\n",
        "tB[2] = -1\n",
        "tB[4] = -1\n",
        "tB[8] = -1\n",
        "tB[10] = -1\n",
        "tB[14] = -1\n",
        "\n",
        "tC[4] = -1\n",
        "tC[5] = -1\n",
        "tC[7] = -1\n",
        "tC[8] = -1\n",
        "tC[10] = -1\n",
        "tC[11] = -1\n",
        "\n",
        "W = np.zeros((63, 15))\n",
        "W = np.matmul(A, tA.T) + np.matmul(B, tB.T) + np.matmul(C, tC.T)\n",
        "yA = np.matmul(A.T, W)\n",
        "yB = np.matmul(B.T, W)\n",
        "yC = np.matmul(C.T, W)\n",
        "fA = np.sign(yA)\n",
        "fB = np.sign(yB)\n",
        "fC = np.sign(yC)\n",
        "\n",
        "\n",
        "def decision(probability):\n",
        "    return random.random() < probability\n",
        "\n",
        "\n",
        "def mistake(input, probability):\n",
        "    new_input = np.copy(input)\n",
        "    for i in range(len(input)):\n",
        "        if decision(probability) is True:\n",
        "            new_input[i] = -new_input[i]\n",
        "    return new_input\n",
        "\n",
        "\n",
        "def miss(input, probability):\n",
        "    new_input = np.copy(input)\n",
        "    for i in range(len(input)):\n",
        "        if decision(probability) is True:\n",
        "            new_input[i] = 0\n",
        "    return new_input\n",
        "\n",
        "\n",
        "def choose_random_input(A, B, C):\n",
        "    input = np.array([A, B, C])\n",
        "    random_input = np.random.choice(input.shape[0], 1)\n",
        "    return random_input\n",
        "\n",
        "\n",
        "detect_from_mistakes = 0\n",
        "for iter1 in range(100):\n",
        "    rand_in = choose_random_input(A, B, C)\n",
        "    if (rand_in == 0):\n",
        "        temp_A = A\n",
        "        temp_A = mistake(temp_A, 0.5)\n",
        "        yA_mistake = np.matmul(temp_A.T, W)\n",
        "        f_mistake = np.sign(yA_mistake)\n",
        "        f = fA\n",
        "    elif (rand_in == 1):\n",
        "        temp_B = B\n",
        "        temp_B = mistake(temp_B, 0.5)\n",
        "        yB_mistake = np.matmul(temp_B.T, W)\n",
        "        f_mistake = np.sign(yB_mistake)\n",
        "        f = fB\n",
        "    elif (rand_in == 2):\n",
        "        temp_C = C\n",
        "        temp_C = mistake(temp_C, 0.5)\n",
        "        yC_mistake = np.matmul(temp_C.T, W)\n",
        "        f_mistake = np.sign(yC_mistake)\n",
        "        f = fC\n",
        "\n",
        "    if (np.array_equal(f_mistake, f)):\n",
        "        detect_from_mistakes += 1\n",
        "print(\"percentage is :\", 0.5)\n",
        "print(\"percentage of detect from mistakes :\", detect_from_mistakes / 100)\n",
        "\n",
        "detect_from_misses = 0\n",
        "for iter2 in range(100):\n",
        "    rand_in = choose_random_input(A, B, C)\n",
        "    if (rand_in == 0):\n",
        "        temp_A = A\n",
        "        temp_A = miss(temp_A, 0.4)\n",
        "        yA_miss = np.matmul(temp_A.T, W)\n",
        "        f_miss = np.sign(yA_miss)\n",
        "        f = fA\n",
        "    elif (rand_in == 1):\n",
        "        temp_B = B\n",
        "        temp_B = miss(temp_B, 0.4)\n",
        "        yB_miss = np.matmul(temp_B.T, W)\n",
        "        f_miss = np.sign(yB_miss)\n",
        "        f = fB\n",
        "    elif (rand_in == 2):\n",
        "        temp_C = C\n",
        "        temp_C = miss(temp_C, 0.4)\n",
        "        yC_miss = np.matmul(temp_C.T, W)\n",
        "        f_miss = np.sign(yC_miss)\n",
        "        f = fC\n",
        "\n",
        "    if (np.array_equal(f_miss, f)):\n",
        "        detect_from_misses += 1\n",
        "print(\"percentage is :\", 0.4)\n",
        "print(\"percentage of detect from misses :\", detect_from_misses / 100)\n"
      ],
      "metadata": {
        "colab": {
          "base_uri": "https://localhost:8080/"
        },
        "id": "K03vTtYg1FPG",
        "outputId": "5ba7cdd2-5256-4d04-8f26-e8e6775ffd7a"
      },
      "execution_count": 2,
      "outputs": [
        {
          "output_type": "stream",
          "name": "stdout",
          "text": [
            "percentage is : 0.5\n",
            "percentage of detect from mistakes : 0.1\n",
            "percentage is : 0.4\n",
            "percentage of detect from misses : 1.0\n"
          ]
        }
      ]
    },
    {
      "cell_type": "code",
      "source": [
        "import numpy as np\n",
        "\n",
        "s = np.array([[1, 1, 1, -1]])\n",
        "t = np.array([[1, 1, 1, -1]])\n",
        "''''''''''part 1 '''''''''\n",
        "w = np.matmul(s.T, s)\n",
        "w = w - np.eye(w.shape[0])\n",
        "y = np.sign(np.matmul(s, w))\n",
        "# print(\"weights : \\n\", w)\n",
        "# print(\"output : \", y)\n",
        "\n",
        "''''''''''part 2 '''''''''\n",
        "sample1 = np.array([[-1, 1, -1, -1]])\n",
        "w1 = np.matmul(sample1.T, sample1)\n",
        "w1 = w1 - np.eye(w1.shape[0])\n",
        "y1 = np.sign(np.matmul(sample1, w1))\n",
        "w2 = w + w1\n",
        "s1 = np.array([[1, 1, 1, -1], [-1, 1, -1, -1]])\n",
        "y2 = np.sign(np.matmul(s1, w2))\n",
        "# print(\"output1 : \\n\", y2)\n",
        "# print(\"weights : \\n\", w2)\n",
        "\n",
        "''''''''''part 3 '''''''''\n",
        "sample2 = np.array([[1, 1, 1, 1]])\n",
        "w3 = np.matmul(sample2.T, sample2)\n",
        "w3 = w3 - np.eye(w3.shape[0])\n",
        "w4 = w + w1 + w3\n",
        "\n",
        "s2 = np.array([[1, 1, 1, -1], [-1, 1, -1, -1], [1, 1, 1, 1]])\n",
        "y3 = np.sign(np.matmul(s2, w4))\n",
        "# print(\"output2 : \\n\", y3)\n",
        "\n",
        "''''''''''part 4 '''''''''\n",
        "sample3 = np.array([[1, -1, -1, -1]])\n",
        "w5 = np.matmul(sample3.T, sample3)\n",
        "w5 = w5 - np.eye(w5.shape[0])\n",
        "w6 = w + w1 + w5\n",
        "s3 = np.array([[1, 1, 1, -1], [-1, 1, -1, -1], [1, -1, -1, -1]])\n",
        "y4 = np.sign(np.matmul(s3, w6))\n",
        "# print(\"output3 : \\n\", y4)\n",
        "\n",
        "sample4 = np.array([[1, 1, 1, 1]])\n",
        "w7 = np.matmul(sample4.T, sample4)\n",
        "w7 = w7 - np.eye(w7.shape[0])\n",
        "w8 = w + w1 + w5 + w7\n",
        "s4 = np.array([[1, 1, 1, -1], [-1, 1, -1, -1], [1, -1, -1, -1], [1, 1, 1, 1]])\n",
        "y5 = np.sign(np.matmul(s4, w8))\n",
        "print(\"output4 : \\n\", y5)"
      ],
      "metadata": {
        "colab": {
          "base_uri": "https://localhost:8080/"
        },
        "id": "kYTmUbbK1Jg-",
        "outputId": "14402620-b585-479f-875e-a0ec163478f5"
      },
      "execution_count": 3,
      "outputs": [
        {
          "output_type": "stream",
          "name": "stdout",
          "text": [
            "output4 : \n",
            " [[ 1.  1.  1.  1.]\n",
            " [-1. -1. -1. -1.]\n",
            " [-1. -1. -1. -1.]\n",
            " [ 1.  1.  1.  1.]]\n"
          ]
        }
      ]
    },
    {
      "cell_type": "code",
      "source": [
        "import numpy as np\n",
        "\n",
        "''''''''''' part1 '''''''''\n",
        "s = np.array([[1, 1, 1, -1]])\n",
        "w = np.matmul(s.T, s)\n",
        "w = w - np.eye(w.shape[0])\n",
        "''''''''''' part2 '''''''''\n",
        "s1 = np.array([[1, 0, 0, 0], [0, 1, 0, 0], [0, 0, 1, 0], [0, 0, 0, -1]])\n",
        "y1 = np.sign(np.matmul(s1, w))\n",
        "# print(\"iteration1: \\n\", y1)\n",
        "# y2 = np.sign(np.matmul(y1, w))\n",
        "# print(\"iteration2: \\n\", y2)\n",
        "\n",
        "''''''''''' part3 '''''''''\n",
        "s2 = np.array([[1, -1, -1, 1], [-1, 1, -1, 1], [-1, -1, 1, 1], [-1, -1, -1, -1]])\n",
        "y3 = np.sign(np.matmul(s2, w))\n",
        "# print(\"iteration1: \\n\", y3)\n",
        "# y4 = np.sign(np.matmul(y3, w))\n",
        "# print(\"iteration2: \\n\", y4)\n",
        "\n",
        "''''''''''' part4 '''''''''\n",
        "'''''''''' miss data '''''\n",
        "s41 = np.array([[1, 0, 0, 0]])\n",
        "s42 = np.array([[0, 1, 0, 0]])\n",
        "s43 = np.array([[0, 0, 1, 0]])\n",
        "s44 = np.array([[0, 0, 0, -1]])\n",
        "'''''''''' mistake data '''''\n",
        "s45 = np.array([[1, -1, -1, 1]])\n",
        "s46 = np.array([[-1, 1, -1, 1]])\n",
        "s47 = np.array([[-1, -1, 1, 1]])\n",
        "s48 = np.array([[-1, -1, -1, -1]])\n",
        "\n",
        "\n",
        "def hop_field(s, w):\n",
        "    order = np.arange(4)\n",
        "    np.random.shuffle(order)\n",
        "    print('orders', order)\n",
        "    y = s\n",
        "    wt = w.T\n",
        "    for i in range(4):\n",
        "        y_in = s[0][order[i]] + np.matmul(y, wt[order[i]])\n",
        "        y_in = np.sign(y_in)\n",
        "        s[0][order[i]] = y_in\n",
        "    print(s, \"\\n\")\n",
        "\n",
        "print(\"output of missing : \\n\")\n",
        "hop_field(s41, w)\n",
        "hop_field(s42, w)\n",
        "hop_field(s43, w)\n",
        "hop_field(s44, w)\n",
        "print(\"output of mistake : \\n\")\n",
        "hop_field(s45, w)\n",
        "hop_field(s46, w)\n",
        "hop_field(s47, w)\n",
        "hop_field(s48, w)\n"
      ],
      "metadata": {
        "colab": {
          "base_uri": "https://localhost:8080/"
        },
        "id": "ffvyiiy91Mp-",
        "outputId": "1fda266e-15d3-48ee-93bd-f2e5b33b5697"
      },
      "execution_count": 4,
      "outputs": [
        {
          "output_type": "stream",
          "name": "stdout",
          "text": [
            "output of missing : \n",
            "\n",
            "orders [2 0 3 1]\n",
            "[[ 1  1  1 -1]] \n",
            "\n",
            "orders [0 3 2 1]\n",
            "[[ 1  1  1 -1]] \n",
            "\n",
            "orders [3 0 1 2]\n",
            "[[ 1  1  1 -1]] \n",
            "\n",
            "orders [3 1 2 0]\n",
            "[[ 1  1  1 -1]] \n",
            "\n",
            "output of mistake : \n",
            "\n",
            "orders [1 0 3 2]\n",
            "[[-1 -1 -1  1]] \n",
            "\n",
            "orders [0 2 3 1]\n",
            "[[-1 -1 -1  1]] \n",
            "\n",
            "orders [0 1 3 2]\n",
            "[[-1 -1 -1  1]] \n",
            "\n",
            "orders [2 1 3 0]\n",
            "[[-1 -1 -1  1]] \n",
            "\n"
          ]
        }
      ]
    },
    {
      "cell_type": "code",
      "source": [
        "import numpy as np\n",
        "import matplotlib.pyplot as plt\n",
        "import random\n",
        "plane_pic = np.array([[-1, -1, -1, -1, -1, -1, -1, 1, 1, -1, -1, -1, -1, -1, -1, -1,\n",
        "                       -1, -1, -1, -1, -1, -1, -1, 1, 1, -1, -1, -1, -1, -1, -1, -1,\n",
        "                       -1, -1, -1, -1, -1, -1, -1, 1, 1, -1, -1, -1, -1, -1, -1, -1,\n",
        "                       -1, -1, -1, -1, -1, -1, -1, 1, 1, -1, -1, -1, -1, -1, -1, -1,\n",
        "                       -1, -1, -1, -1, -1, -1, -1, 1, 1, -1, -1, -1, -1, -1, -1, -1,\n",
        "                       -1, -1, -1, -1, -1, -1, 1, 1, 1, 1, -1, -1, -1, -1, -1, -1,\n",
        "                       -1, -1, -1, -1, -1, 1, 1, 1, 1, 1, 1, -1, -1, -1, -1, -1,\n",
        "                       -1, -1, -1, -1, 1, 1, 1, 1, 1, 1, 1, 1, -1, -1, -1, -1,\n",
        "                       -1, -1, -1, 1, 1, 1, 1, 1, 1, 1, 1, 1, 1, -1, -1, -1,\n",
        "                       -1, -1, 1, 1, 1, -1, -1, 1, 1, -1, -1, 1, 1, 1, -1, -1,\n",
        "                       -1, 1, 1, 1, -1, -1, -1, 1, 1, -1, -1, -1, 1, 1, 1, -1,\n",
        "                       1, 1, 1, -1, -1, -1, -1, 1, 1, -1, -1, -1, -1, 1, 1, 1,\n",
        "                       1, 1, -1, -1, -1, -1, -1, 1, 1, -1, -1, -1, -1, -1, 1, 1,\n",
        "                       1, -1, -1, -1, -1, -1, -1, 1, 1, -1, -1, -1, -1, -1, -1, 1,\n",
        "                       -1, -1, -1, -1, -1, -1, -1, 1, 1, -1, -1, -1, -1, -1, -1, -1,\n",
        "                       -1, -1, -1, -1, -1, -1, 1, 1, 1, 1, -1, -1, -1, -1, -1, -1,\n",
        "                       -1, -1, -1, -1, -1, -1, 1, 1, 1, 1, -1, -1, -1, -1, -1, -1,\n",
        "                       -1, -1, -1, -1, -1, -1, 1, -1, -1, 1, -1, -1, -1, -1, -1, -1]])\n",
        "\n",
        "plane_txt = np.array([[1, 1, 1, 1, 1, -1, -1, 1, -1, -1, -1, -1, -1, -1, -1, -1, 1, 1, -1, -1, -1, 1, -1, -1, -1, -1, 1,\n",
        "                       -1, 1, 1, 1, 1, 1, 1, -1,\n",
        "                      1, -1, -1, -1, -1, 1, -1, 1, -1, -1, -1, -1, -1, -1, -1, 1, -1, -1, 1, -1, -1, 1, 1, -1, -1, -1,\n",
        "                       1, -1, 1, -1, -1, -1, -1, -1, -1,\n",
        "                      1, -1, -1, -1, -1, 1, -1, 1, -1, -1, -1, -1, -1, -1, -1, 1, -1, -1, 1, -1, -1, 1, 1, -1, -1, -1,\n",
        "                       1, -1, 1, -1, -1, -1, -1, -1, -1,\n",
        "                      1, -1, -1, -1, -1, 1, -1, 1, -1, -1, -1, -1, -1, -1, -1, 1, -1, -1, 1, -1, -1, 1, -1, 1, -1, -1,\n",
        "                       1, -1, 1, 1, 1, 1, 1, -1, -1,\n",
        "                      1, 1, 1, 1, 1, -1, -1, 1, -1, -1, -1, -1, -1, -1, 1, -1, -1, -1, -1, 1, -1, 1, -1, -1, 1, -1, 1,\n",
        "                       -1, 1, -1, -1, -1, -1, -1, -1,\n",
        "                      1, -1, -1, -1, -1, -1, -1, 1, -1, -1, -1, -1, -1, -1, 1, 1, 1, 1, 1, 1, -1, 1, -1, -1, -1, 1, 1,\n",
        "                       -1, 1, -1, -1, -1, -1, -1, -1,\n",
        "                      1, -1, -1, -1, -1, -1, -1, 1, -1, -1, -1, -1, 1, -1, 1, -1, -1, -1, -1, 1, -1, 1, -1, -1, -1, 1,\n",
        "                       1, -1, 1, -1, -1, -1, -1, -1, -1,\n",
        "                      1, -1, -1, -1, -1, -1, -1, 1, 1, 1, 1, 1, 1, -1, 1, -1, -1, -1, -1, 1, -1, 1, -1, -1, -1, -1, 1,\n",
        "                       -1, 1, 1, 1, 1, 1, 1, -1]])\n",
        "\n",
        "tank_pic = np.array([[-1, -1, -1, -1, -1, -1, 1, 1, 1, 1, -1, -1, -1, -1, -1, -1,\n",
        "                     -1, -1, -1, -1, -1, -1, -1, 1, 1, -1, -1, -1, -1, -1, -1, -1,\n",
        "                     -1, -1, -1, -1, -1, -1, -1, 1, 1, -1, -1, -1, -1, -1, -1, -1,\n",
        "                     -1, -1, -1, -1, -1, -1, -1, 1, 1, -1, -1, -1, -1, -1, -1, -1,\n",
        "                     -1, -1, -1, -1, -1, -1, -1, 1, 1, -1, -1, -1, -1, -1, -1, -1,\n",
        "                     -1, -1, -1, -1, -1, -1, -1, 1, 1, -1, -1, -1, -1, -1, -1, -1,\n",
        "                     -1, -1, -1, -1, -1, -1, -1, 1, 1, -1, -1, -1, -1, -1, -1, -1,\n",
        "                     -1, -1, -1, -1, -1, -1, -1, 1, 1, -1, -1, -1, -1, -1, -1, -1,\n",
        "                     -1, -1, -1, -1, -1, -1, -1, 1, 1, -1, -1, -1, -1, -1, -1, -1,\n",
        "                     -1, -1, 1, 1, -1, -1, -1, 1, 1, -1, -1, -1, 1, 1, -1, -1,\n",
        "                     -1, -1, 1, 1, -1, -1, 1, 1, 1, 1, -1, -1, 1, 1, -1, -1,\n",
        "                     -1, -1, 1, 1, -1, 1, 1, 1, 1, 1, 1, -1, 1, 1, -1, -1,\n",
        "                     -1, -1, 1, 1, 1, 1, 1, 1, 1, 1, 1, 1, 1, 1, -1, -1,\n",
        "                     -1, -1, 1, 1, 1, 1, 1, 1, 1, 1, 1, 1, 1, 1, -1, -1,\n",
        "                     -1, -1, 1, 1, -1, 1, 1, 1, 1, 1, 1, -1, 1, 1, -1, -1,\n",
        "                     -1, -1, 1, 1, -1, -1, 1, 1, 1, 1, -1, -1, 1, 1, -1, -1,\n",
        "                     -1, -1, 1, 1, -1, -1, -1, -1, -1, -1, -1, -1, 1, 1, -1, -1,\n",
        "                     -1, -1, 1, 1, -1, -1, -1, -1, -1, -1, -1, -1, 1, 1, -1, -1]])\n",
        "\n",
        "tank_txt = np.array([[1, 1, 1, 1, 1, 1, 1, -1, -1, -1, -1, -1, 1, -1, -1, -1, -1, -1, 1, -1, -1, -1, -1, -1, -1, 1, -1,\n",
        "                      -1, 1, -1, -1, -1, -1, 1, -1,\n",
        "                     -1, -1, -1, 1, -1, -1, -1, -1, -1, -1, -1, 1, -1, 1, -1, -1, -1, -1, 1, 1, -1, -1, -1, -1, -1, 1,\n",
        "                      -1, -1, 1, -1, -1, -1, 1, -1, -1,\n",
        "                     -1, -1, -1, 1, -1, -1, -1, -1, -1, -1, 1, -1, -1, -1, 1, -1, -1, -1, 1, -1, 1, -1, -1, -1, -1, 1,\n",
        "                      -1, -1, 1, -1, -1, 1, -1, -1, -1,\n",
        "                     -1, -1, -1, 1, -1, -1, -1, -1, -1, -1, 1, -1, -1, -1, 1, -1, -1, -1, 1, -1, -1, 1, -1, -1, -1, 1,\n",
        "                      -1, -1, 1, 1, 1, -1, -1, -1, -1,\n",
        "                     -1, -1, -1, 1, -1, -1, -1, -1, -1, 1, -1, -1, -1, -1, -1, 1, -1, -1, 1, -1, -1, -1, 1, -1, -1, 1,\n",
        "                      -1, -1, 1, -1, -1, 1, -1, -1, -1,\n",
        "                     -1, -1, -1, 1, -1, -1, -1, -1, -1, 1, 1, 1, 1, 1, 1, 1, -1, -1, 1, -1, -1, -1, -1, 1, -1, 1, -1,\n",
        "                      -1, 1, -1, -1, -1, 1, -1, -1,\n",
        "                     -1, -1, -1, 1, -1, -1, -1, -1, -1, 1, -1, -1, -1, -1, -1, 1, -1, -1, 1, -1, -1, -1, -1, -1, 1, 1,\n",
        "                      -1, -1, 1, -1, -1, -1, -1, 1, -1,\n",
        "                     -1, -1, -1, 1, -1, -1, -1, -1, -1, 1, -1, -1, -1, -1, -1, 1, -1, -1, 1, -1, -1, -1, -1, -1, -1, 1,\n",
        "                      -1, -1, 1, -1, -1, -1, -1, -1, 1]])\n",
        "\n",
        "# plt.imshow(plane_pic.reshape(18, 16))\n",
        "# plt.show()\n",
        "# plt.imshow(plane_txt.reshape(8, 35))\n",
        "# plt.show()\n",
        "# plt.imshow(tank_pic.reshape(18, 16))\n",
        "# plt.show()\n",
        "# plt.imshow(tank_txt.reshape(8, 35))\n",
        "# plt.show()\n",
        "''''''''''''' calculate weights'''''''''''''''\n",
        "w = np.zeros([18 * 16, 8 * 35])\n",
        "pic = np.vstack([plane_pic, tank_pic])\n",
        "print(np.shape(pic))\n",
        "txt = np.vstack([plane_txt, tank_txt])\n",
        "print(np.shape(txt))\n",
        "w = np.matmul(pic.T, txt)\n",
        "print(np.shape(w))\n",
        "''''''''''''' input -> pic output -> txt'''''''''''''''\n",
        "y1 = np.sign(np.matmul(pic, w))\n",
        "print(np.shape(y1))\n",
        "plt.imshow(plane_pic.reshape(18, 16))\n",
        "plt.title(\"input_plane\")\n",
        "plt.show()\n",
        "plt.title(\"output_plane\")\n",
        "plt.imshow(y1[0].reshape(8, 35))\n",
        "plt.show()\n",
        "plt.imshow(tank_pic.reshape(18, 16))\n",
        "plt.title(\"input_tank\")\n",
        "plt.show()\n",
        "plt.title(\"output_tank\")\n",
        "plt.imshow(y1[1].reshape(8, 35))\n",
        "plt.show()\n",
        "''''''''''''' input -> txt output -> pic'''''''''''''''\n",
        "y2 = np.sign(np.matmul(txt, w.T))\n",
        "plt.imshow(plane_txt.reshape(8, 35))\n",
        "plt.title(\"input_plane\")\n",
        "plt.show()\n",
        "plt.title(\"output_plane\")\n",
        "plt.imshow(y2[0].reshape(18, 16))\n",
        "plt.show()\n",
        "plt.imshow(tank_txt.reshape(8, 35))\n",
        "plt.title(\"input_tank\")\n",
        "plt.show()\n",
        "plt.title(\"output_tank\")\n",
        "plt.imshow(y2[1].reshape(18, 16))\n",
        "plt.show()\n",
        "\n",
        "'''''''''''''''add disturbance '''''''''''''''''\n",
        "\n",
        "def decision(probability):\n",
        "    return random.random() < probability\n",
        "\n",
        "\n",
        "def mistake(input, probability):\n",
        "    new_input = np.copy(input)\n",
        "    for i in range(len(input)):\n",
        "        if decision(probability) is True:\n",
        "            new_input[i] = -new_input[i]\n",
        "    return new_input\n",
        "\n",
        "\n",
        "temp_input_plane = mistake(pic[0], 0.3)\n",
        "y3 = np.sign(np.matmul(temp_input_plane, w))\n",
        "print(np.shape(y3))\n",
        "plt.imshow(temp_input_plane.reshape(18, 16))\n",
        "plt.title(\"input_noisy_plane\")\n",
        "plt.show()\n",
        "plt.title(\"output_plane\")\n",
        "plt.imshow(y3.reshape(8, 35))\n",
        "plt.show()\n",
        "\n",
        "temp_input_tank = mistake(pic[1], 0.3)\n",
        "y4 = np.sign(np.matmul(temp_input_tank, w))\n",
        "print(np.shape(y4))\n",
        "plt.imshow(temp_input_tank.reshape(18, 16))\n",
        "plt.title(\"input_noisy_tank\")\n",
        "plt.show()\n",
        "plt.title(\"output_tank\")\n",
        "plt.imshow(y4.reshape(8, 35))\n",
        "plt.show()"
      ],
      "metadata": {
        "colab": {
          "base_uri": "https://localhost:8080/",
          "height": 1000
        },
        "id": "9Sb1_CJf1QM2",
        "outputId": "1b78048c-3fe7-417e-962c-1965c4bc3ebc"
      },
      "execution_count": 5,
      "outputs": [
        {
          "output_type": "stream",
          "name": "stdout",
          "text": [
            "(2, 288)\n",
            "(2, 280)\n",
            "(288, 280)\n",
            "(2, 280)\n"
          ]
        },
        {
          "output_type": "display_data",
          "data": {
            "text/plain": [
              "<Figure size 640x480 with 1 Axes>"
            ],
            "image/png": "[encoded data removed]"
          },
          "metadata": {}
        },
        {
          "output_type": "display_data",
          "data": {
            "text/plain": [
              "<Figure size 640x480 with 1 Axes>"
            ],
            "image/png": "[encoded data removed]"
          },
          "metadata": {}
        },
        {
          "output_type": "display_data",
          "data": {
            "text/plain": [
              "<Figure size 640x480 with 1 Axes>"
            ],
            "image/png": "[encoded data removed]"
          },
          "metadata": {}
        },
        {
          "output_type": "display_data",
          "data": {
            "text/plain": [
              "<Figure size 640x480 with 1 Axes>"
            ],
            "image/png": "[encoded data removed]"
          },
          "metadata": {}
        },
        {
          "output_type": "display_data",
          "data": {
            "text/plain": [
              "<Figure size 640x480 with 1 Axes>"
            ],
            "image/png": "[encoded data removed]"
          },
          "metadata": {}
        },
        {
          "output_type": "display_data",
          "data": {
            "text/plain": [
              "<Figure size 640x480 with 1 Axes>"
            ],
            "image/png": "[encoded data removed]"
          },
          "metadata": {}
        },
        {
          "output_type": "display_data",
          "data": {
            "text/plain": [
              "<Figure size 640x480 with 1 Axes>"
            ],
            "image/png": "[encoded data removed]"
          },
          "metadata": {}
        },
        {
          "output_type": "display_data",
          "data": {
            "text/plain": [
              "<Figure size 640x480 with 1 Axes>"
            ],
            "image/png": "[encoded data removed]"
          },
          "metadata": {}
        },
        {
          "output_type": "stream",
          "name": "stdout",
          "text": [
            "(280,)\n"
          ]
        },
        {
          "output_type": "display_data",
          "data": {
            "text/plain": [
              "<Figure size 640x480 with 1 Axes>"
            ],
            "image/png": "[encoded data removed]"
          },
          "metadata": {}
        },
        {
          "output_type": "display_data",
          "data": {
            "text/plain": [
              "<Figure size 640x480 with 1 Axes>"
            ],
            "image/png": "[encoded data removed]"
          },
          "metadata": {}
        },
        {
          "output_type": "stream",
          "name": "stdout",
          "text": [
            "(280,)\n"
          ]
        },
        {
          "output_type": "display_data",
          "data": {
            "text/plain": [
              "<Figure size 640x480 with 1 Axes>"
            ],
            "image/png": "[encoded data removed]"
          },
          "metadata": {}
        },
        {
          "output_type": "display_data",
          "data": {
            "text/plain": [
              "<Figure size 640x480 with 1 Axes>"
            ],
            "image/png": "[encoded data removed]"
          },
          "metadata": {}
        }
      ]
    }
  ]
}